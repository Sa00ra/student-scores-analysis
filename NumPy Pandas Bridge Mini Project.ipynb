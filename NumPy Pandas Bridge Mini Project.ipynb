{
 "cells": [
  {
   "cell_type": "markdown",
   "id": "5145fc2c-14c5-434d-b9de-55912e267a73",
   "metadata": {},
   "source": [
    "Step 1 — Create Data with NumPy"
   ]
  },
  {
   "cell_type": "code",
   "execution_count": 1,
   "id": "f0d27db6-15c4-4c3b-9322-e53243739a91",
   "metadata": {},
   "outputs": [],
   "source": [
    "import numpy as np\n",
    "import pandas as pd"
   ]
  },
  {
   "cell_type": "code",
   "execution_count": 5,
   "id": "9659f27c-5b13-4452-a3c1-a457369b7dab",
   "metadata": {},
   "outputs": [],
   "source": [
    "np.random.seed(42) # reproducible results"
   ]
  },
  {
   "cell_type": "code",
   "execution_count": 6,
   "id": "7ef1f15d-07b4-4b22-be90-e262d369e4f1",
   "metadata": {},
   "outputs": [],
   "source": [
    "# 100 student IDs (S001, S002, ...)\n",
    "student_ids = [f\"S{i:03}\" for i in range (1, 101)]"
   ]
  },
  {
   "cell_type": "code",
   "execution_count": 8,
   "id": "9b01dbb2-0baf-4588-bfa0-beed5a5d1b43",
   "metadata": {},
   "outputs": [],
   "source": [
    "# Random scores for 3 subjects (0-100)\n",
    "math_scores = np.random.randint(50,101,size = 100)\n",
    "science_scores = np.random.randint(40,101,size=100)\n",
    "english_scores = np.random.randint(45,101,size=100)"
   ]
  },
  {
   "cell_type": "markdown",
   "id": "c7cb4949-5fb8-4f26-90b9-b191ba1170aa",
   "metadata": {},
   "source": [
    "Step 2 — Create Pandas DataFrame"
   ]
  },
  {
   "cell_type": "code",
   "execution_count": 9,
   "id": "b712817f-bef3-43eb-b6ce-d6d4d7ea3f7e",
   "metadata": {},
   "outputs": [
    {
     "data": {
      "text/html": [
       "<div>\n",
       "<style scoped>\n",
       "    .dataframe tbody tr th:only-of-type {\n",
       "        vertical-align: middle;\n",
       "    }\n",
       "\n",
       "    .dataframe tbody tr th {\n",
       "        vertical-align: top;\n",
       "    }\n",
       "\n",
       "    .dataframe thead th {\n",
       "        text-align: right;\n",
       "    }\n",
       "</style>\n",
       "<table border=\"1\" class=\"dataframe\">\n",
       "  <thead>\n",
       "    <tr style=\"text-align: right;\">\n",
       "      <th></th>\n",
       "      <th>StudentID</th>\n",
       "      <th>Math</th>\n",
       "      <th>Science</th>\n",
       "      <th>English</th>\n",
       "    </tr>\n",
       "  </thead>\n",
       "  <tbody>\n",
       "    <tr>\n",
       "      <th>0</th>\n",
       "      <td>S001</td>\n",
       "      <td>74</td>\n",
       "      <td>76</td>\n",
       "      <td>51</td>\n",
       "    </tr>\n",
       "    <tr>\n",
       "      <th>1</th>\n",
       "      <td>S002</td>\n",
       "      <td>56</td>\n",
       "      <td>72</td>\n",
       "      <td>60</td>\n",
       "    </tr>\n",
       "    <tr>\n",
       "      <th>2</th>\n",
       "      <td>S003</td>\n",
       "      <td>58</td>\n",
       "      <td>90</td>\n",
       "      <td>70</td>\n",
       "    </tr>\n",
       "    <tr>\n",
       "      <th>3</th>\n",
       "      <td>S004</td>\n",
       "      <td>73</td>\n",
       "      <td>81</td>\n",
       "      <td>92</td>\n",
       "    </tr>\n",
       "    <tr>\n",
       "      <th>4</th>\n",
       "      <td>S005</td>\n",
       "      <td>50</td>\n",
       "      <td>83</td>\n",
       "      <td>96</td>\n",
       "    </tr>\n",
       "    <tr>\n",
       "      <th>...</th>\n",
       "      <td>...</td>\n",
       "      <td>...</td>\n",
       "      <td>...</td>\n",
       "      <td>...</td>\n",
       "    </tr>\n",
       "    <tr>\n",
       "      <th>95</th>\n",
       "      <td>S096</td>\n",
       "      <td>88</td>\n",
       "      <td>62</td>\n",
       "      <td>74</td>\n",
       "    </tr>\n",
       "    <tr>\n",
       "      <th>96</th>\n",
       "      <td>S097</td>\n",
       "      <td>55</td>\n",
       "      <td>70</td>\n",
       "      <td>73</td>\n",
       "    </tr>\n",
       "    <tr>\n",
       "      <th>97</th>\n",
       "      <td>S098</td>\n",
       "      <td>57</td>\n",
       "      <td>69</td>\n",
       "      <td>90</td>\n",
       "    </tr>\n",
       "    <tr>\n",
       "      <th>98</th>\n",
       "      <td>S099</td>\n",
       "      <td>76</td>\n",
       "      <td>81</td>\n",
       "      <td>97</td>\n",
       "    </tr>\n",
       "    <tr>\n",
       "      <th>99</th>\n",
       "      <td>S100</td>\n",
       "      <td>58</td>\n",
       "      <td>74</td>\n",
       "      <td>50</td>\n",
       "    </tr>\n",
       "  </tbody>\n",
       "</table>\n",
       "<p>100 rows × 4 columns</p>\n",
       "</div>"
      ],
      "text/plain": [
       "   StudentID  Math  Science  English\n",
       "0       S001    74       76       51\n",
       "1       S002    56       72       60\n",
       "2       S003    58       90       70\n",
       "3       S004    73       81       92\n",
       "4       S005    50       83       96\n",
       "..       ...   ...      ...      ...\n",
       "95      S096    88       62       74\n",
       "96      S097    55       70       73\n",
       "97      S098    57       69       90\n",
       "98      S099    76       81       97\n",
       "99      S100    58       74       50\n",
       "\n",
       "[100 rows x 4 columns]"
      ]
     },
     "execution_count": 9,
     "metadata": {},
     "output_type": "execute_result"
    }
   ],
   "source": [
    "df = pd.DataFrame({\n",
    "    'StudentID':student_ids,\n",
    "    'Math':math_scores,\n",
    "    'Science':science_scores,\n",
    "    'English':english_scores\n",
    "})\n",
    "df"
   ]
  },
  {
   "cell_type": "markdown",
   "id": "c5da7672-6f5b-4052-89aa-d2aa3eb20ed2",
   "metadata": {},
   "source": [
    "Step 3 — Add a New Column"
   ]
  },
  {
   "cell_type": "code",
   "execution_count": 14,
   "id": "11d7a264-8879-47af-ba60-de3f6bf57ddd",
   "metadata": {},
   "outputs": [
    {
     "data": {
      "text/html": [
       "<div>\n",
       "<style scoped>\n",
       "    .dataframe tbody tr th:only-of-type {\n",
       "        vertical-align: middle;\n",
       "    }\n",
       "\n",
       "    .dataframe tbody tr th {\n",
       "        vertical-align: top;\n",
       "    }\n",
       "\n",
       "    .dataframe thead th {\n",
       "        text-align: right;\n",
       "    }\n",
       "</style>\n",
       "<table border=\"1\" class=\"dataframe\">\n",
       "  <thead>\n",
       "    <tr style=\"text-align: right;\">\n",
       "      <th></th>\n",
       "      <th>StudentID</th>\n",
       "      <th>Math</th>\n",
       "      <th>Science</th>\n",
       "      <th>English</th>\n",
       "      <th>Average</th>\n",
       "    </tr>\n",
       "  </thead>\n",
       "  <tbody>\n",
       "    <tr>\n",
       "      <th>0</th>\n",
       "      <td>S001</td>\n",
       "      <td>74</td>\n",
       "      <td>76</td>\n",
       "      <td>51</td>\n",
       "      <td>67.000000</td>\n",
       "    </tr>\n",
       "    <tr>\n",
       "      <th>1</th>\n",
       "      <td>S002</td>\n",
       "      <td>56</td>\n",
       "      <td>72</td>\n",
       "      <td>60</td>\n",
       "      <td>62.666667</td>\n",
       "    </tr>\n",
       "    <tr>\n",
       "      <th>2</th>\n",
       "      <td>S003</td>\n",
       "      <td>58</td>\n",
       "      <td>90</td>\n",
       "      <td>70</td>\n",
       "      <td>72.666667</td>\n",
       "    </tr>\n",
       "    <tr>\n",
       "      <th>3</th>\n",
       "      <td>S004</td>\n",
       "      <td>73</td>\n",
       "      <td>81</td>\n",
       "      <td>92</td>\n",
       "      <td>82.000000</td>\n",
       "    </tr>\n",
       "    <tr>\n",
       "      <th>4</th>\n",
       "      <td>S005</td>\n",
       "      <td>50</td>\n",
       "      <td>83</td>\n",
       "      <td>96</td>\n",
       "      <td>76.333333</td>\n",
       "    </tr>\n",
       "    <tr>\n",
       "      <th>...</th>\n",
       "      <td>...</td>\n",
       "      <td>...</td>\n",
       "      <td>...</td>\n",
       "      <td>...</td>\n",
       "      <td>...</td>\n",
       "    </tr>\n",
       "    <tr>\n",
       "      <th>95</th>\n",
       "      <td>S096</td>\n",
       "      <td>88</td>\n",
       "      <td>62</td>\n",
       "      <td>74</td>\n",
       "      <td>74.666667</td>\n",
       "    </tr>\n",
       "    <tr>\n",
       "      <th>96</th>\n",
       "      <td>S097</td>\n",
       "      <td>55</td>\n",
       "      <td>70</td>\n",
       "      <td>73</td>\n",
       "      <td>66.000000</td>\n",
       "    </tr>\n",
       "    <tr>\n",
       "      <th>97</th>\n",
       "      <td>S098</td>\n",
       "      <td>57</td>\n",
       "      <td>69</td>\n",
       "      <td>90</td>\n",
       "      <td>72.000000</td>\n",
       "    </tr>\n",
       "    <tr>\n",
       "      <th>98</th>\n",
       "      <td>S099</td>\n",
       "      <td>76</td>\n",
       "      <td>81</td>\n",
       "      <td>97</td>\n",
       "      <td>84.666667</td>\n",
       "    </tr>\n",
       "    <tr>\n",
       "      <th>99</th>\n",
       "      <td>S100</td>\n",
       "      <td>58</td>\n",
       "      <td>74</td>\n",
       "      <td>50</td>\n",
       "      <td>60.666667</td>\n",
       "    </tr>\n",
       "  </tbody>\n",
       "</table>\n",
       "<p>100 rows × 5 columns</p>\n",
       "</div>"
      ],
      "text/plain": [
       "   StudentID  Math  Science  English    Average\n",
       "0       S001    74       76       51  67.000000\n",
       "1       S002    56       72       60  62.666667\n",
       "2       S003    58       90       70  72.666667\n",
       "3       S004    73       81       92  82.000000\n",
       "4       S005    50       83       96  76.333333\n",
       "..       ...   ...      ...      ...        ...\n",
       "95      S096    88       62       74  74.666667\n",
       "96      S097    55       70       73  66.000000\n",
       "97      S098    57       69       90  72.000000\n",
       "98      S099    76       81       97  84.666667\n",
       "99      S100    58       74       50  60.666667\n",
       "\n",
       "[100 rows x 5 columns]"
      ]
     },
     "execution_count": 14,
     "metadata": {},
     "output_type": "execute_result"
    }
   ],
   "source": [
    "df['Average'] = df[['Math', 'Science', 'English']].mean(axis=1)\n",
    "df"
   ]
  },
  {
   "cell_type": "markdown",
   "id": "bdd8460f-1bd8-4dbb-98d7-5e9aea85b1bb",
   "metadata": {},
   "source": [
    "Step 4 — Basic Analysis"
   ]
  },
  {
   "cell_type": "markdown",
   "id": "d029cde4-0199-46d5-986d-047d738eecaa",
   "metadata": {},
   "source": [
    "1. Find the top 5 students by average score."
   ]
  },
  {
   "cell_type": "code",
   "execution_count": 50,
   "id": "6a55db91-5db2-4f6b-80b1-89c42a494b31",
   "metadata": {},
   "outputs": [
    {
     "data": {
      "text/html": [
       "<div>\n",
       "<style scoped>\n",
       "    .dataframe tbody tr th:only-of-type {\n",
       "        vertical-align: middle;\n",
       "    }\n",
       "\n",
       "    .dataframe tbody tr th {\n",
       "        vertical-align: top;\n",
       "    }\n",
       "\n",
       "    .dataframe thead th {\n",
       "        text-align: right;\n",
       "    }\n",
       "</style>\n",
       "<table border=\"1\" class=\"dataframe\">\n",
       "  <thead>\n",
       "    <tr style=\"text-align: right;\">\n",
       "      <th></th>\n",
       "      <th>StudentID</th>\n",
       "      <th>Math</th>\n",
       "      <th>Science</th>\n",
       "      <th>English</th>\n",
       "      <th>Average</th>\n",
       "      <th>Performance</th>\n",
       "    </tr>\n",
       "  </thead>\n",
       "  <tbody>\n",
       "    <tr>\n",
       "      <th>72</th>\n",
       "      <td>S073</td>\n",
       "      <td>100</td>\n",
       "      <td>99</td>\n",
       "      <td>82</td>\n",
       "      <td>93.666667</td>\n",
       "      <td>Excellent</td>\n",
       "    </tr>\n",
       "    <tr>\n",
       "      <th>13</th>\n",
       "      <td>S014</td>\n",
       "      <td>84</td>\n",
       "      <td>91</td>\n",
       "      <td>99</td>\n",
       "      <td>91.333333</td>\n",
       "      <td>Excellent</td>\n",
       "    </tr>\n",
       "    <tr>\n",
       "      <th>57</th>\n",
       "      <td>S058</td>\n",
       "      <td>98</td>\n",
       "      <td>73</td>\n",
       "      <td>100</td>\n",
       "      <td>90.333333</td>\n",
       "      <td>Excellent</td>\n",
       "    </tr>\n",
       "    <tr>\n",
       "      <th>24</th>\n",
       "      <td>S025</td>\n",
       "      <td>83</td>\n",
       "      <td>88</td>\n",
       "      <td>100</td>\n",
       "      <td>90.333333</td>\n",
       "      <td>Excellent</td>\n",
       "    </tr>\n",
       "    <tr>\n",
       "      <th>16</th>\n",
       "      <td>S017</td>\n",
       "      <td>91</td>\n",
       "      <td>97</td>\n",
       "      <td>79</td>\n",
       "      <td>89.000000</td>\n",
       "      <td>Good</td>\n",
       "    </tr>\n",
       "  </tbody>\n",
       "</table>\n",
       "</div>"
      ],
      "text/plain": [
       "   StudentID  Math  Science  English    Average Performance\n",
       "72      S073   100       99       82  93.666667   Excellent\n",
       "13      S014    84       91       99  91.333333   Excellent\n",
       "57      S058    98       73      100  90.333333   Excellent\n",
       "24      S025    83       88      100  90.333333   Excellent\n",
       "16      S017    91       97       79  89.000000        Good"
      ]
     },
     "execution_count": 50,
     "metadata": {},
     "output_type": "execute_result"
    }
   ],
   "source": [
    "df.sort_values(by = 'Average', ascending = False).head(5)"
   ]
  },
  {
   "cell_type": "markdown",
   "id": "c8bf2a33-4996-44f1-82ea-5f8cd2828611",
   "metadata": {},
   "source": [
    "2. Count how many students scored above 90 in Math."
   ]
  },
  {
   "cell_type": "code",
   "execution_count": 24,
   "id": "9831e1ea-7fbf-483e-a323-7076477df4d8",
   "metadata": {},
   "outputs": [
    {
     "data": {
      "text/plain": [
       "np.int64(16)"
      ]
     },
     "execution_count": 24,
     "metadata": {},
     "output_type": "execute_result"
    }
   ],
   "source": [
    "(df['Math']>90).sum()"
   ]
  },
  {
   "cell_type": "markdown",
   "id": "23ab079b-ab26-4adb-a5e8-b7f98baffb1d",
   "metadata": {},
   "source": [
    "3. Find the mean Science score."
   ]
  },
  {
   "cell_type": "code",
   "execution_count": 25,
   "id": "cdd60d63-6d86-4b0d-9699-70a231051c04",
   "metadata": {},
   "outputs": [
    {
     "data": {
      "text/plain": [
       "np.float64(70.71)"
      ]
     },
     "execution_count": 25,
     "metadata": {},
     "output_type": "execute_result"
    }
   ],
   "source": [
    "(df['Science']).mean()"
   ]
  },
  {
   "cell_type": "markdown",
   "id": "7fb976b4-43a6-468a-ba8f-d52efcd7b0ed",
   "metadata": {},
   "source": [
    "4. Find the student with the lowest English score."
   ]
  },
  {
   "cell_type": "code",
   "execution_count": 26,
   "id": "cb8368e1-021a-4d88-9bcd-8cfa3f6098d1",
   "metadata": {},
   "outputs": [
    {
     "data": {
      "text/html": [
       "<div>\n",
       "<style scoped>\n",
       "    .dataframe tbody tr th:only-of-type {\n",
       "        vertical-align: middle;\n",
       "    }\n",
       "\n",
       "    .dataframe tbody tr th {\n",
       "        vertical-align: top;\n",
       "    }\n",
       "\n",
       "    .dataframe thead th {\n",
       "        text-align: right;\n",
       "    }\n",
       "</style>\n",
       "<table border=\"1\" class=\"dataframe\">\n",
       "  <thead>\n",
       "    <tr style=\"text-align: right;\">\n",
       "      <th></th>\n",
       "      <th>StudentID</th>\n",
       "      <th>Math</th>\n",
       "      <th>Science</th>\n",
       "      <th>English</th>\n",
       "      <th>Average</th>\n",
       "    </tr>\n",
       "  </thead>\n",
       "  <tbody>\n",
       "    <tr>\n",
       "      <th>7</th>\n",
       "      <td>S008</td>\n",
       "      <td>73</td>\n",
       "      <td>98</td>\n",
       "      <td>45</td>\n",
       "      <td>72.0</td>\n",
       "    </tr>\n",
       "  </tbody>\n",
       "</table>\n",
       "</div>"
      ],
      "text/plain": [
       "  StudentID  Math  Science  English  Average\n",
       "7      S008    73       98       45     72.0"
      ]
     },
     "execution_count": 26,
     "metadata": {},
     "output_type": "execute_result"
    }
   ],
   "source": [
    "df.sort_values(by = 'English' , ascending = True).head(1)"
   ]
  },
  {
   "cell_type": "markdown",
   "id": "ab3ef505-abd5-4ef8-a00e-16bb0766880c",
   "metadata": {},
   "source": [
    "Step 5 — Categorize Performance"
   ]
  },
  {
   "cell_type": "code",
   "execution_count": 28,
   "id": "0cbca837-7ba3-4dca-b289-9e0b51620642",
   "metadata": {},
   "outputs": [
    {
     "data": {
      "text/html": [
       "<div>\n",
       "<style scoped>\n",
       "    .dataframe tbody tr th:only-of-type {\n",
       "        vertical-align: middle;\n",
       "    }\n",
       "\n",
       "    .dataframe tbody tr th {\n",
       "        vertical-align: top;\n",
       "    }\n",
       "\n",
       "    .dataframe thead th {\n",
       "        text-align: right;\n",
       "    }\n",
       "</style>\n",
       "<table border=\"1\" class=\"dataframe\">\n",
       "  <thead>\n",
       "    <tr style=\"text-align: right;\">\n",
       "      <th></th>\n",
       "      <th>StudentID</th>\n",
       "      <th>Math</th>\n",
       "      <th>Science</th>\n",
       "      <th>English</th>\n",
       "      <th>Average</th>\n",
       "      <th>Performance</th>\n",
       "    </tr>\n",
       "  </thead>\n",
       "  <tbody>\n",
       "    <tr>\n",
       "      <th>0</th>\n",
       "      <td>S001</td>\n",
       "      <td>74</td>\n",
       "      <td>76</td>\n",
       "      <td>51</td>\n",
       "      <td>67.000000</td>\n",
       "      <td>Average</td>\n",
       "    </tr>\n",
       "    <tr>\n",
       "      <th>1</th>\n",
       "      <td>S002</td>\n",
       "      <td>56</td>\n",
       "      <td>72</td>\n",
       "      <td>60</td>\n",
       "      <td>62.666667</td>\n",
       "      <td>Average</td>\n",
       "    </tr>\n",
       "    <tr>\n",
       "      <th>2</th>\n",
       "      <td>S003</td>\n",
       "      <td>58</td>\n",
       "      <td>90</td>\n",
       "      <td>70</td>\n",
       "      <td>72.666667</td>\n",
       "      <td>Average</td>\n",
       "    </tr>\n",
       "    <tr>\n",
       "      <th>3</th>\n",
       "      <td>S004</td>\n",
       "      <td>73</td>\n",
       "      <td>81</td>\n",
       "      <td>92</td>\n",
       "      <td>82.000000</td>\n",
       "      <td>Good</td>\n",
       "    </tr>\n",
       "    <tr>\n",
       "      <th>4</th>\n",
       "      <td>S005</td>\n",
       "      <td>50</td>\n",
       "      <td>83</td>\n",
       "      <td>96</td>\n",
       "      <td>76.333333</td>\n",
       "      <td>Good</td>\n",
       "    </tr>\n",
       "    <tr>\n",
       "      <th>...</th>\n",
       "      <td>...</td>\n",
       "      <td>...</td>\n",
       "      <td>...</td>\n",
       "      <td>...</td>\n",
       "      <td>...</td>\n",
       "      <td>...</td>\n",
       "    </tr>\n",
       "    <tr>\n",
       "      <th>95</th>\n",
       "      <td>S096</td>\n",
       "      <td>88</td>\n",
       "      <td>62</td>\n",
       "      <td>74</td>\n",
       "      <td>74.666667</td>\n",
       "      <td>Average</td>\n",
       "    </tr>\n",
       "    <tr>\n",
       "      <th>96</th>\n",
       "      <td>S097</td>\n",
       "      <td>55</td>\n",
       "      <td>70</td>\n",
       "      <td>73</td>\n",
       "      <td>66.000000</td>\n",
       "      <td>Average</td>\n",
       "    </tr>\n",
       "    <tr>\n",
       "      <th>97</th>\n",
       "      <td>S098</td>\n",
       "      <td>57</td>\n",
       "      <td>69</td>\n",
       "      <td>90</td>\n",
       "      <td>72.000000</td>\n",
       "      <td>Average</td>\n",
       "    </tr>\n",
       "    <tr>\n",
       "      <th>98</th>\n",
       "      <td>S099</td>\n",
       "      <td>76</td>\n",
       "      <td>81</td>\n",
       "      <td>97</td>\n",
       "      <td>84.666667</td>\n",
       "      <td>Good</td>\n",
       "    </tr>\n",
       "    <tr>\n",
       "      <th>99</th>\n",
       "      <td>S100</td>\n",
       "      <td>58</td>\n",
       "      <td>74</td>\n",
       "      <td>50</td>\n",
       "      <td>60.666667</td>\n",
       "      <td>Average</td>\n",
       "    </tr>\n",
       "  </tbody>\n",
       "</table>\n",
       "<p>100 rows × 6 columns</p>\n",
       "</div>"
      ],
      "text/plain": [
       "   StudentID  Math  Science  English    Average Performance\n",
       "0       S001    74       76       51  67.000000     Average\n",
       "1       S002    56       72       60  62.666667     Average\n",
       "2       S003    58       90       70  72.666667     Average\n",
       "3       S004    73       81       92  82.000000        Good\n",
       "4       S005    50       83       96  76.333333        Good\n",
       "..       ...   ...      ...      ...        ...         ...\n",
       "95      S096    88       62       74  74.666667     Average\n",
       "96      S097    55       70       73  66.000000     Average\n",
       "97      S098    57       69       90  72.000000     Average\n",
       "98      S099    76       81       97  84.666667        Good\n",
       "99      S100    58       74       50  60.666667     Average\n",
       "\n",
       "[100 rows x 6 columns]"
      ]
     },
     "execution_count": 28,
     "metadata": {},
     "output_type": "execute_result"
    }
   ],
   "source": [
    "def performance(average):\n",
    "    if average >=90:\n",
    "        return 'Excellent'\n",
    "    elif average >=75:\n",
    "        return 'Good'\n",
    "    elif average >=60:\n",
    "        return 'Average'\n",
    "    else:\n",
    "        return 'Poor'\n",
    "df['Performance'] = df['Average'].apply(performance)\n",
    "df"
   ]
  },
  {
   "cell_type": "markdown",
   "id": "2db30ca5-7f66-40b4-8542-a8b45d61896c",
   "metadata": {},
   "source": [
    "another way of doint it:"
   ]
  },
  {
   "cell_type": "code",
   "execution_count": 35,
   "id": "28a48c45-4d94-4045-b108-e74b2a5bb18f",
   "metadata": {},
   "outputs": [
    {
     "data": {
      "text/html": [
       "<div>\n",
       "<style scoped>\n",
       "    .dataframe tbody tr th:only-of-type {\n",
       "        vertical-align: middle;\n",
       "    }\n",
       "\n",
       "    .dataframe tbody tr th {\n",
       "        vertical-align: top;\n",
       "    }\n",
       "\n",
       "    .dataframe thead th {\n",
       "        text-align: right;\n",
       "    }\n",
       "</style>\n",
       "<table border=\"1\" class=\"dataframe\">\n",
       "  <thead>\n",
       "    <tr style=\"text-align: right;\">\n",
       "      <th></th>\n",
       "      <th>StudentID</th>\n",
       "      <th>Math</th>\n",
       "      <th>Science</th>\n",
       "      <th>English</th>\n",
       "      <th>Average</th>\n",
       "      <th>Performance</th>\n",
       "      <th>Performance1</th>\n",
       "    </tr>\n",
       "  </thead>\n",
       "  <tbody>\n",
       "    <tr>\n",
       "      <th>0</th>\n",
       "      <td>S001</td>\n",
       "      <td>74</td>\n",
       "      <td>76</td>\n",
       "      <td>51</td>\n",
       "      <td>67.000000</td>\n",
       "      <td>Average</td>\n",
       "      <td>Average</td>\n",
       "    </tr>\n",
       "    <tr>\n",
       "      <th>1</th>\n",
       "      <td>S002</td>\n",
       "      <td>56</td>\n",
       "      <td>72</td>\n",
       "      <td>60</td>\n",
       "      <td>62.666667</td>\n",
       "      <td>Average</td>\n",
       "      <td>Average</td>\n",
       "    </tr>\n",
       "    <tr>\n",
       "      <th>2</th>\n",
       "      <td>S003</td>\n",
       "      <td>58</td>\n",
       "      <td>90</td>\n",
       "      <td>70</td>\n",
       "      <td>72.666667</td>\n",
       "      <td>Average</td>\n",
       "      <td>Average</td>\n",
       "    </tr>\n",
       "    <tr>\n",
       "      <th>3</th>\n",
       "      <td>S004</td>\n",
       "      <td>73</td>\n",
       "      <td>81</td>\n",
       "      <td>92</td>\n",
       "      <td>82.000000</td>\n",
       "      <td>Good</td>\n",
       "      <td>Good</td>\n",
       "    </tr>\n",
       "    <tr>\n",
       "      <th>4</th>\n",
       "      <td>S005</td>\n",
       "      <td>50</td>\n",
       "      <td>83</td>\n",
       "      <td>96</td>\n",
       "      <td>76.333333</td>\n",
       "      <td>Good</td>\n",
       "      <td>Good</td>\n",
       "    </tr>\n",
       "    <tr>\n",
       "      <th>...</th>\n",
       "      <td>...</td>\n",
       "      <td>...</td>\n",
       "      <td>...</td>\n",
       "      <td>...</td>\n",
       "      <td>...</td>\n",
       "      <td>...</td>\n",
       "      <td>...</td>\n",
       "    </tr>\n",
       "    <tr>\n",
       "      <th>95</th>\n",
       "      <td>S096</td>\n",
       "      <td>88</td>\n",
       "      <td>62</td>\n",
       "      <td>74</td>\n",
       "      <td>74.666667</td>\n",
       "      <td>Average</td>\n",
       "      <td>Average</td>\n",
       "    </tr>\n",
       "    <tr>\n",
       "      <th>96</th>\n",
       "      <td>S097</td>\n",
       "      <td>55</td>\n",
       "      <td>70</td>\n",
       "      <td>73</td>\n",
       "      <td>66.000000</td>\n",
       "      <td>Average</td>\n",
       "      <td>Average</td>\n",
       "    </tr>\n",
       "    <tr>\n",
       "      <th>97</th>\n",
       "      <td>S098</td>\n",
       "      <td>57</td>\n",
       "      <td>69</td>\n",
       "      <td>90</td>\n",
       "      <td>72.000000</td>\n",
       "      <td>Average</td>\n",
       "      <td>Average</td>\n",
       "    </tr>\n",
       "    <tr>\n",
       "      <th>98</th>\n",
       "      <td>S099</td>\n",
       "      <td>76</td>\n",
       "      <td>81</td>\n",
       "      <td>97</td>\n",
       "      <td>84.666667</td>\n",
       "      <td>Good</td>\n",
       "      <td>Good</td>\n",
       "    </tr>\n",
       "    <tr>\n",
       "      <th>99</th>\n",
       "      <td>S100</td>\n",
       "      <td>58</td>\n",
       "      <td>74</td>\n",
       "      <td>50</td>\n",
       "      <td>60.666667</td>\n",
       "      <td>Average</td>\n",
       "      <td>Average</td>\n",
       "    </tr>\n",
       "  </tbody>\n",
       "</table>\n",
       "<p>100 rows × 7 columns</p>\n",
       "</div>"
      ],
      "text/plain": [
       "   StudentID  Math  Science  English    Average Performance Performance1\n",
       "0       S001    74       76       51  67.000000     Average      Average\n",
       "1       S002    56       72       60  62.666667     Average      Average\n",
       "2       S003    58       90       70  72.666667     Average      Average\n",
       "3       S004    73       81       92  82.000000        Good         Good\n",
       "4       S005    50       83       96  76.333333        Good         Good\n",
       "..       ...   ...      ...      ...        ...         ...          ...\n",
       "95      S096    88       62       74  74.666667     Average      Average\n",
       "96      S097    55       70       73  66.000000     Average      Average\n",
       "97      S098    57       69       90  72.000000     Average      Average\n",
       "98      S099    76       81       97  84.666667        Good         Good\n",
       "99      S100    58       74       50  60.666667     Average      Average\n",
       "\n",
       "[100 rows x 7 columns]"
      ]
     },
     "execution_count": 35,
     "metadata": {},
     "output_type": "execute_result"
    }
   ],
   "source": [
    "conditions = [\n",
    "    df['Average'] >=90,\n",
    "    (df['Average'] >=75) & (df['Average']<90),\n",
    "    (df['Average'] >= 60) & (df['Average'] < 75),\n",
    "    df['Average']<60\n",
    "]\n",
    "choices = ['Excellent' , 'Good', 'Average', 'Poor']\n",
    "df['Performance1'] = np.select(conditions,choices, default = 'Unknown')\n",
    "df"
   ]
  },
  {
   "cell_type": "markdown",
   "id": "cb67e180-9ed8-4117-9695-b2d601563f33",
   "metadata": {},
   "source": [
    "Step 6 — Group Analysis"
   ]
  },
  {
   "cell_type": "markdown",
   "id": "7a49bf0e-da7a-4e0f-8a9c-e06d7b24e0ec",
   "metadata": {},
   "source": [
    "Average scores per performance category:"
   ]
  },
  {
   "cell_type": "code",
   "execution_count": 41,
   "id": "3b6e8a46-eb32-4e61-92ce-6dce3f162a3a",
   "metadata": {},
   "outputs": [
    {
     "data": {
      "text/html": [
       "<div>\n",
       "<style scoped>\n",
       "    .dataframe tbody tr th:only-of-type {\n",
       "        vertical-align: middle;\n",
       "    }\n",
       "\n",
       "    .dataframe tbody tr th {\n",
       "        vertical-align: top;\n",
       "    }\n",
       "\n",
       "    .dataframe thead th {\n",
       "        text-align: right;\n",
       "    }\n",
       "</style>\n",
       "<table border=\"1\" class=\"dataframe\">\n",
       "  <thead>\n",
       "    <tr style=\"text-align: right;\">\n",
       "      <th></th>\n",
       "      <th>Math</th>\n",
       "      <th>Science</th>\n",
       "      <th>English</th>\n",
       "    </tr>\n",
       "    <tr>\n",
       "      <th>Performance</th>\n",
       "      <th></th>\n",
       "      <th></th>\n",
       "      <th></th>\n",
       "    </tr>\n",
       "  </thead>\n",
       "  <tbody>\n",
       "    <tr>\n",
       "      <th>Average</th>\n",
       "      <td>71.320000</td>\n",
       "      <td>66.540000</td>\n",
       "      <td>70.840000</td>\n",
       "    </tr>\n",
       "    <tr>\n",
       "      <th>Excellent</th>\n",
       "      <td>91.250000</td>\n",
       "      <td>87.750000</td>\n",
       "      <td>95.250000</td>\n",
       "    </tr>\n",
       "    <tr>\n",
       "      <th>Good</th>\n",
       "      <td>79.085714</td>\n",
       "      <td>82.314286</td>\n",
       "      <td>82.400000</td>\n",
       "    </tr>\n",
       "    <tr>\n",
       "      <th>Poor</th>\n",
       "      <td>68.272727</td>\n",
       "      <td>46.545455</td>\n",
       "      <td>53.818182</td>\n",
       "    </tr>\n",
       "  </tbody>\n",
       "</table>\n",
       "</div>"
      ],
      "text/plain": [
       "                  Math    Science    English\n",
       "Performance                                 \n",
       "Average      71.320000  66.540000  70.840000\n",
       "Excellent    91.250000  87.750000  95.250000\n",
       "Good         79.085714  82.314286  82.400000\n",
       "Poor         68.272727  46.545455  53.818182"
      ]
     },
     "execution_count": 41,
     "metadata": {},
     "output_type": "execute_result"
    }
   ],
   "source": [
    "df.groupby('Performance')[['Math', 'Science', 'English']].mean()"
   ]
  },
  {
   "cell_type": "markdown",
   "id": "f2350cfa-cd16-48aa-b92b-d884970c313f",
   "metadata": {},
   "source": [
    "Delete a column"
   ]
  },
  {
   "cell_type": "code",
   "execution_count": 47,
   "id": "663e34fa-5657-4943-89f2-68c8f00dfe20",
   "metadata": {},
   "outputs": [],
   "source": [
    "df.drop(columns = 'Performance1', inplace = True)"
   ]
  },
  {
   "cell_type": "code",
   "execution_count": 48,
   "id": "280eee0b-5761-4345-94ed-6387aff0b2dd",
   "metadata": {},
   "outputs": [
    {
     "data": {
      "text/html": [
       "<div>\n",
       "<style scoped>\n",
       "    .dataframe tbody tr th:only-of-type {\n",
       "        vertical-align: middle;\n",
       "    }\n",
       "\n",
       "    .dataframe tbody tr th {\n",
       "        vertical-align: top;\n",
       "    }\n",
       "\n",
       "    .dataframe thead th {\n",
       "        text-align: right;\n",
       "    }\n",
       "</style>\n",
       "<table border=\"1\" class=\"dataframe\">\n",
       "  <thead>\n",
       "    <tr style=\"text-align: right;\">\n",
       "      <th></th>\n",
       "      <th>StudentID</th>\n",
       "      <th>Math</th>\n",
       "      <th>Science</th>\n",
       "      <th>English</th>\n",
       "      <th>Average</th>\n",
       "      <th>Performance</th>\n",
       "    </tr>\n",
       "  </thead>\n",
       "  <tbody>\n",
       "    <tr>\n",
       "      <th>0</th>\n",
       "      <td>S001</td>\n",
       "      <td>74</td>\n",
       "      <td>76</td>\n",
       "      <td>51</td>\n",
       "      <td>67.000000</td>\n",
       "      <td>Average</td>\n",
       "    </tr>\n",
       "    <tr>\n",
       "      <th>1</th>\n",
       "      <td>S002</td>\n",
       "      <td>56</td>\n",
       "      <td>72</td>\n",
       "      <td>60</td>\n",
       "      <td>62.666667</td>\n",
       "      <td>Average</td>\n",
       "    </tr>\n",
       "    <tr>\n",
       "      <th>2</th>\n",
       "      <td>S003</td>\n",
       "      <td>58</td>\n",
       "      <td>90</td>\n",
       "      <td>70</td>\n",
       "      <td>72.666667</td>\n",
       "      <td>Average</td>\n",
       "    </tr>\n",
       "    <tr>\n",
       "      <th>3</th>\n",
       "      <td>S004</td>\n",
       "      <td>73</td>\n",
       "      <td>81</td>\n",
       "      <td>92</td>\n",
       "      <td>82.000000</td>\n",
       "      <td>Good</td>\n",
       "    </tr>\n",
       "    <tr>\n",
       "      <th>4</th>\n",
       "      <td>S005</td>\n",
       "      <td>50</td>\n",
       "      <td>83</td>\n",
       "      <td>96</td>\n",
       "      <td>76.333333</td>\n",
       "      <td>Good</td>\n",
       "    </tr>\n",
       "    <tr>\n",
       "      <th>...</th>\n",
       "      <td>...</td>\n",
       "      <td>...</td>\n",
       "      <td>...</td>\n",
       "      <td>...</td>\n",
       "      <td>...</td>\n",
       "      <td>...</td>\n",
       "    </tr>\n",
       "    <tr>\n",
       "      <th>95</th>\n",
       "      <td>S096</td>\n",
       "      <td>88</td>\n",
       "      <td>62</td>\n",
       "      <td>74</td>\n",
       "      <td>74.666667</td>\n",
       "      <td>Average</td>\n",
       "    </tr>\n",
       "    <tr>\n",
       "      <th>96</th>\n",
       "      <td>S097</td>\n",
       "      <td>55</td>\n",
       "      <td>70</td>\n",
       "      <td>73</td>\n",
       "      <td>66.000000</td>\n",
       "      <td>Average</td>\n",
       "    </tr>\n",
       "    <tr>\n",
       "      <th>97</th>\n",
       "      <td>S098</td>\n",
       "      <td>57</td>\n",
       "      <td>69</td>\n",
       "      <td>90</td>\n",
       "      <td>72.000000</td>\n",
       "      <td>Average</td>\n",
       "    </tr>\n",
       "    <tr>\n",
       "      <th>98</th>\n",
       "      <td>S099</td>\n",
       "      <td>76</td>\n",
       "      <td>81</td>\n",
       "      <td>97</td>\n",
       "      <td>84.666667</td>\n",
       "      <td>Good</td>\n",
       "    </tr>\n",
       "    <tr>\n",
       "      <th>99</th>\n",
       "      <td>S100</td>\n",
       "      <td>58</td>\n",
       "      <td>74</td>\n",
       "      <td>50</td>\n",
       "      <td>60.666667</td>\n",
       "      <td>Average</td>\n",
       "    </tr>\n",
       "  </tbody>\n",
       "</table>\n",
       "<p>100 rows × 6 columns</p>\n",
       "</div>"
      ],
      "text/plain": [
       "   StudentID  Math  Science  English    Average Performance\n",
       "0       S001    74       76       51  67.000000     Average\n",
       "1       S002    56       72       60  62.666667     Average\n",
       "2       S003    58       90       70  72.666667     Average\n",
       "3       S004    73       81       92  82.000000        Good\n",
       "4       S005    50       83       96  76.333333        Good\n",
       "..       ...   ...      ...      ...        ...         ...\n",
       "95      S096    88       62       74  74.666667     Average\n",
       "96      S097    55       70       73  66.000000     Average\n",
       "97      S098    57       69       90  72.000000     Average\n",
       "98      S099    76       81       97  84.666667        Good\n",
       "99      S100    58       74       50  60.666667     Average\n",
       "\n",
       "[100 rows x 6 columns]"
      ]
     },
     "execution_count": 48,
     "metadata": {},
     "output_type": "execute_result"
    }
   ],
   "source": [
    "df"
   ]
  },
  {
   "cell_type": "markdown",
   "id": "5dfa8e9b-5bff-4b6d-8fc0-979bad178a03",
   "metadata": {},
   "source": [
    "Step 7 — Save to CSV"
   ]
  },
  {
   "cell_type": "code",
   "execution_count": 49,
   "id": "11e954dc-6770-4a53-a400-cdf59edaab37",
   "metadata": {},
   "outputs": [],
   "source": [
    "df.to_csv('student_scores.csv', index = False)"
   ]
  },
  {
   "cell_type": "markdown",
   "id": "b44cbc7d-12b2-470f-b127-473375e10268",
   "metadata": {},
   "source": [
    "## Analysis"
   ]
  },
  {
   "cell_type": "markdown",
   "id": "2948f810-b7db-4343-8e1c-fae293d9cb0e",
   "metadata": {},
   "source": [
    "1. Subject Difficulty\n",
    "\n",
    "Find out which subject has the lowest overall average score."
   ]
  },
  {
   "cell_type": "code",
   "execution_count": 61,
   "id": "b6673b53-7211-46cb-b33a-e996af5e3db6",
   "metadata": {},
   "outputs": [
    {
     "name": "stdout",
     "output_type": "stream",
     "text": [
      "Average score: \n",
      " Math       74.50\n",
      "Science    70.71\n",
      "English    73.99\n",
      "dtype: float64\n",
      "Hardest subject: Science\n"
     ]
    }
   ],
   "source": [
    "# Calculate average score per subject\n",
    "subject_means = df[['Math', 'Science', 'English']].mean()\n",
    "\n",
    "# Find the subject with lowest average\n",
    "lowest_subject = subject_means.idxmin()\n",
    "\n",
    "print('Average score: \\n', subject_means)\n",
    "print('Hardest subject:', lowest_subject)"
   ]
  },
  {
   "cell_type": "markdown",
   "id": "0a6b9748-efe0-4284-a128-6de478de567d",
   "metadata": {},
   "source": [
    "2. Top Performers per Subject\n",
    "\n",
    "Find the top 3 students for each subject (Math, Science, English)."
   ]
  },
  {
   "cell_type": "code",
   "execution_count": 69,
   "id": "32d85496-04e0-426b-8861-1c72dda9a629",
   "metadata": {},
   "outputs": [
    {
     "name": "stdout",
     "output_type": "stream",
     "text": [
      "Top 3 in Math\n",
      "   StudentID  Math\n",
      "9       S010   100\n",
      "54      S055   100\n",
      "72      S073   100\n",
      "Top 3 in Science\n",
      "   StudentID  Science\n",
      "72      S073       99\n",
      "65      S066       99\n",
      "27      S028       98\n",
      "Top 3 in English\n",
      "   StudentID  English\n",
      "24      S025      100\n",
      "57      S058      100\n",
      "67      S068       99\n"
     ]
    }
   ],
   "source": [
    "for subject in ['Math', 'Science', 'English']:\n",
    "    print(f'Top 3 in {subject}')\n",
    "    top_students = df.sort_values(by=subject, ascending = False).head(3)\n",
    "    print(top_students[['StudentID', subject]])"
   ]
  },
  {
   "cell_type": "markdown",
   "id": "fc6dd552-de75-4e8b-a1ba-06c9aff055e7",
   "metadata": {},
   "source": [
    "3. Performance Category Count\n",
    "\n",
    "Count how many students fall into each Performance category.\n",
    "(Hint: value_counts() on the Performance column.)"
   ]
  },
  {
   "cell_type": "code",
   "execution_count": 71,
   "id": "3c1b048e-6339-49a9-bee8-e61e38c4ec94",
   "metadata": {},
   "outputs": [
    {
     "data": {
      "text/plain": [
       "Performance\n",
       "Average      50\n",
       "Good         35\n",
       "Poor         11\n",
       "Excellent     4\n",
       "Name: count, dtype: int64"
      ]
     },
     "execution_count": 71,
     "metadata": {},
     "output_type": "execute_result"
    }
   ],
   "source": [
    "df['Performance'].value_counts()"
   ]
  },
  {
   "cell_type": "markdown",
   "id": "8e575bac-cd7f-4158-8d56-6b719ad4a895",
   "metadata": {},
   "source": [
    "4. Best Subject for Each Student\n",
    "\n",
    "Create a new column \"BestSubject\" that stores which subject the student scored highest in."
   ]
  },
  {
   "cell_type": "code",
   "execution_count": 73,
   "id": "f30d0670-d31b-4654-92de-a58e35bf9789",
   "metadata": {},
   "outputs": [
    {
     "data": {
      "text/html": [
       "<div>\n",
       "<style scoped>\n",
       "    .dataframe tbody tr th:only-of-type {\n",
       "        vertical-align: middle;\n",
       "    }\n",
       "\n",
       "    .dataframe tbody tr th {\n",
       "        vertical-align: top;\n",
       "    }\n",
       "\n",
       "    .dataframe thead th {\n",
       "        text-align: right;\n",
       "    }\n",
       "</style>\n",
       "<table border=\"1\" class=\"dataframe\">\n",
       "  <thead>\n",
       "    <tr style=\"text-align: right;\">\n",
       "      <th></th>\n",
       "      <th>StudentID</th>\n",
       "      <th>Math</th>\n",
       "      <th>Science</th>\n",
       "      <th>English</th>\n",
       "      <th>Average</th>\n",
       "      <th>Performance</th>\n",
       "      <th>BestSubject</th>\n",
       "    </tr>\n",
       "  </thead>\n",
       "  <tbody>\n",
       "    <tr>\n",
       "      <th>0</th>\n",
       "      <td>S001</td>\n",
       "      <td>74</td>\n",
       "      <td>76</td>\n",
       "      <td>51</td>\n",
       "      <td>67.000000</td>\n",
       "      <td>Average</td>\n",
       "      <td>Science</td>\n",
       "    </tr>\n",
       "    <tr>\n",
       "      <th>1</th>\n",
       "      <td>S002</td>\n",
       "      <td>56</td>\n",
       "      <td>72</td>\n",
       "      <td>60</td>\n",
       "      <td>62.666667</td>\n",
       "      <td>Average</td>\n",
       "      <td>Science</td>\n",
       "    </tr>\n",
       "    <tr>\n",
       "      <th>2</th>\n",
       "      <td>S003</td>\n",
       "      <td>58</td>\n",
       "      <td>90</td>\n",
       "      <td>70</td>\n",
       "      <td>72.666667</td>\n",
       "      <td>Average</td>\n",
       "      <td>Science</td>\n",
       "    </tr>\n",
       "    <tr>\n",
       "      <th>3</th>\n",
       "      <td>S004</td>\n",
       "      <td>73</td>\n",
       "      <td>81</td>\n",
       "      <td>92</td>\n",
       "      <td>82.000000</td>\n",
       "      <td>Good</td>\n",
       "      <td>English</td>\n",
       "    </tr>\n",
       "    <tr>\n",
       "      <th>4</th>\n",
       "      <td>S005</td>\n",
       "      <td>50</td>\n",
       "      <td>83</td>\n",
       "      <td>96</td>\n",
       "      <td>76.333333</td>\n",
       "      <td>Good</td>\n",
       "      <td>English</td>\n",
       "    </tr>\n",
       "    <tr>\n",
       "      <th>...</th>\n",
       "      <td>...</td>\n",
       "      <td>...</td>\n",
       "      <td>...</td>\n",
       "      <td>...</td>\n",
       "      <td>...</td>\n",
       "      <td>...</td>\n",
       "      <td>...</td>\n",
       "    </tr>\n",
       "    <tr>\n",
       "      <th>95</th>\n",
       "      <td>S096</td>\n",
       "      <td>88</td>\n",
       "      <td>62</td>\n",
       "      <td>74</td>\n",
       "      <td>74.666667</td>\n",
       "      <td>Average</td>\n",
       "      <td>Math</td>\n",
       "    </tr>\n",
       "    <tr>\n",
       "      <th>96</th>\n",
       "      <td>S097</td>\n",
       "      <td>55</td>\n",
       "      <td>70</td>\n",
       "      <td>73</td>\n",
       "      <td>66.000000</td>\n",
       "      <td>Average</td>\n",
       "      <td>English</td>\n",
       "    </tr>\n",
       "    <tr>\n",
       "      <th>97</th>\n",
       "      <td>S098</td>\n",
       "      <td>57</td>\n",
       "      <td>69</td>\n",
       "      <td>90</td>\n",
       "      <td>72.000000</td>\n",
       "      <td>Average</td>\n",
       "      <td>English</td>\n",
       "    </tr>\n",
       "    <tr>\n",
       "      <th>98</th>\n",
       "      <td>S099</td>\n",
       "      <td>76</td>\n",
       "      <td>81</td>\n",
       "      <td>97</td>\n",
       "      <td>84.666667</td>\n",
       "      <td>Good</td>\n",
       "      <td>English</td>\n",
       "    </tr>\n",
       "    <tr>\n",
       "      <th>99</th>\n",
       "      <td>S100</td>\n",
       "      <td>58</td>\n",
       "      <td>74</td>\n",
       "      <td>50</td>\n",
       "      <td>60.666667</td>\n",
       "      <td>Average</td>\n",
       "      <td>Science</td>\n",
       "    </tr>\n",
       "  </tbody>\n",
       "</table>\n",
       "<p>100 rows × 7 columns</p>\n",
       "</div>"
      ],
      "text/plain": [
       "   StudentID  Math  Science  English    Average Performance BestSubject\n",
       "0       S001    74       76       51  67.000000     Average     Science\n",
       "1       S002    56       72       60  62.666667     Average     Science\n",
       "2       S003    58       90       70  72.666667     Average     Science\n",
       "3       S004    73       81       92  82.000000        Good     English\n",
       "4       S005    50       83       96  76.333333        Good     English\n",
       "..       ...   ...      ...      ...        ...         ...         ...\n",
       "95      S096    88       62       74  74.666667     Average        Math\n",
       "96      S097    55       70       73  66.000000     Average     English\n",
       "97      S098    57       69       90  72.000000     Average     English\n",
       "98      S099    76       81       97  84.666667        Good     English\n",
       "99      S100    58       74       50  60.666667     Average     Science\n",
       "\n",
       "[100 rows x 7 columns]"
      ]
     },
     "execution_count": 73,
     "metadata": {},
     "output_type": "execute_result"
    }
   ],
   "source": [
    "df['BestSubject'] = df[['Math', 'Science', 'English']].idxmax(axis=1)\n",
    "df"
   ]
  },
  {
   "cell_type": "markdown",
   "id": "9fcd8c8d-4b18-4dbf-98b7-9ce12e1992a7",
   "metadata": {},
   "source": [
    "5. Visualizations (Matplotlib / Seaborn)"
   ]
  },
  {
   "cell_type": "code",
   "execution_count": 75,
   "id": "ea8a640b-f428-482f-8f6b-ffb8ccd4d4a5",
   "metadata": {},
   "outputs": [],
   "source": [
    "import matplotlib.pyplot as plt\n",
    "import seaborn as sns"
   ]
  },
  {
   "cell_type": "markdown",
   "id": "7b3a38cc-159a-47f0-bb75-a96a0eae2d72",
   "metadata": {},
   "source": [
    "Bar chart: Average score per Performance category."
   ]
  },
  {
   "cell_type": "code",
   "execution_count": 78,
   "id": "9f4ccc34-ab92-4b0c-a669-d0bed22c95db",
   "metadata": {},
   "outputs": [
    {
     "data": {
      "image/png": "[encoded data removed]",
      "text/plain": [
       "<Figure size 400x200 with 1 Axes>"
      ]
     },
     "metadata": {},
     "output_type": "display_data"
    }
   ],
   "source": [
    "avg_scores = df.groupby('Performance')[['Math', 'Science', 'English']].mean()\n",
    "avg_scores.plot(kind = 'bar', figsize = (4,2))\n",
    "plt.title('Average Scores by Performance Category')\n",
    "plt.ylabel('Scores')\n",
    "plt.show()"
   ]
  },
  {
   "cell_type": "markdown",
   "id": "48187237-dee8-4d4c-b953-7db6b6a84680",
   "metadata": {},
   "source": [
    "Histogram: Distribution of Math scores."
   ]
  },
  {
   "cell_type": "code",
   "execution_count": 81,
   "id": "7bbcc625-7f02-4c0d-9256-edb87aac8097",
   "metadata": {},
   "outputs": [
    {
     "data": {
      "image/png": "[encoded data removed]",
      "text/plain": [
       "<Figure size 640x480 with 1 Axes>"
      ]
     },
     "metadata": {},
     "output_type": "display_data"
    }
   ],
   "source": [
    "plt.hist(df['Math'], bins = 10, edgecolor = 'black')\n",
    "plt.title('MAth Score Distribution')\n",
    "plt.xlabel('Score')\n",
    "plt.ylabel('Number of Students')\n",
    "plt.show()"
   ]
  },
  {
   "cell_type": "markdown",
   "id": "37a89f67-116e-4b9a-9ba5-d1d6c799c93e",
   "metadata": {},
   "source": [
    "Boxplot: Compare score distributions across subjects."
   ]
  },
  {
   "cell_type": "code",
   "execution_count": 83,
   "id": "7b65c441-d4fb-46bd-ac65-2473dda013b7",
   "metadata": {},
   "outputs": [
    {
     "data": {
      "image/png": "[encoded data removed]",
      "text/plain": [
       "<Figure size 640x480 with 1 Axes>"
      ]
     },
     "metadata": {},
     "output_type": "display_data"
    }
   ],
   "source": [
    "sns.boxplot(data=df[['Math', 'Science', 'English']])\n",
    "plt.title('Score Distribution by Subject')\n",
    "plt.show()"
   ]
  },
  {
   "cell_type": "markdown",
   "id": "9b7a6270-d625-4062-9032-86fd809fa4c3",
   "metadata": {},
   "source": [
    "6. Correlation Analysis\n",
    "\n",
    "Check if scores in different subjects are related:"
   ]
  },
  {
   "cell_type": "code",
   "execution_count": 84,
   "id": "8e48bf3e-efc8-421c-b63f-07b8db7b934a",
   "metadata": {},
   "outputs": [
    {
     "name": "stdout",
     "output_type": "stream",
     "text": [
      "             Math   Science   English\n",
      "Math     1.000000 -0.098888 -0.033144\n",
      "Science -0.098888  1.000000  0.129900\n",
      "English -0.033144  0.129900  1.000000\n"
     ]
    }
   ],
   "source": [
    "corr_matrix = df[['Math', 'Science', 'English']].corr()\n",
    "print(corr_matrix)"
   ]
  },
  {
   "cell_type": "markdown",
   "id": "a9770d3a-87d6-4b24-b4fa-927b502dfa81",
   "metadata": {},
   "source": [
    "Visualize it with a heatmap (Seaborn)."
   ]
  },
  {
   "cell_type": "code",
   "execution_count": 85,
   "id": "375f57f1-b370-4096-a569-4db11678082f",
   "metadata": {},
   "outputs": [
    {
     "data": {
      "image/png": "[encoded data removed]",
      "text/plain": [
       "<Figure size 640x480 with 2 Axes>"
      ]
     },
     "metadata": {},
     "output_type": "display_data"
    }
   ],
   "source": [
    "sns.heatmap(corr_matrix, annot=True, cmap = 'coolwarm')\n",
    "plt.title('Subject Score Correlation')\n",
    "plt.show()"
   ]
  }
 ],
 "metadata": {
  "kernelspec": {
   "display_name": "Python [conda env:base] *",
   "language": "python",
   "name": "conda-base-py"
  },
  "language_info": {
   "codemirror_mode": {
    "name": "ipython",
    "version": 3
   },
   "file_extension": ".py",
   "mimetype": "text/x-python",
   "name": "python",
   "nbconvert_exporter": "python",
   "pygments_lexer": "ipython3",
   "version": "3.13.5"
  }
 },
 "nbformat": 4,
 "nbformat_minor": 5
}
